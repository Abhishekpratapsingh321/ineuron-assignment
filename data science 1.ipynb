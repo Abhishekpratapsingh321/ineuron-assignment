{
 "cells": [
  {
   "cell_type": "markdown",
   "id": "c2c0fdac",
   "metadata": {},
   "source": [
    "1. Write a Python program to reverse a string without using any built-in string reversal functions."
   ]
  },
  {
   "cell_type": "code",
   "execution_count": 1,
   "id": "d2f808e2",
   "metadata": {},
   "outputs": [
    {
     "name": "stdout",
     "output_type": "stream",
     "text": [
      "patarp\n"
     ]
    }
   ],
   "source": [
    "def reverse(string):\n",
    "    string=string[::-1]\n",
    "    return string\n",
    "string=\"pratap\"\n",
    "print(reverse(string))"
   ]
  },
  {
   "cell_type": "code",
   "execution_count": null,
   "id": "6c8ecb9d",
   "metadata": {},
   "outputs": [],
   "source": [
    "2. Implement a function to check if a given string is a palindrome."
   ]
  },
  {
   "cell_type": "code",
   "execution_count": 4,
   "id": "0ea7593f",
   "metadata": {},
   "outputs": [
    {
     "name": "stdout",
     "output_type": "stream",
     "text": [
      "False\n"
     ]
    }
   ],
   "source": [
    "def palindrome(string):\n",
    "    string1=string[::-1]\n",
    "    return string1==string\n",
    "string=\"pratp\"\n",
    "print(palindrome(string))"
   ]
  },
  {
   "cell_type": "code",
   "execution_count": null,
   "id": "733f9c0a",
   "metadata": {},
   "outputs": [],
   "source": [
    "3. Write a program to find the largest element in a given list."
   ]
  },
  {
   "cell_type": "code",
   "execution_count": 5,
   "id": "b2e5471d",
   "metadata": {},
   "outputs": [
    {
     "name": "stdout",
     "output_type": "stream",
     "text": [
      "9\n"
     ]
    }
   ],
   "source": [
    "def largest(n):\n",
    "    return max(n)\n",
    "n=[3,4,5,6,9]\n",
    "print(largest(n))"
   ]
  },
  {
   "cell_type": "code",
   "execution_count": null,
   "id": "748c0683",
   "metadata": {},
   "outputs": [],
   "source": [
    "4. Implement a function to count the occurrence of each element in a list."
   ]
  },
  {
   "cell_type": "code",
   "execution_count": 6,
   "id": "850c5816",
   "metadata": {},
   "outputs": [
    {
     "name": "stdout",
     "output_type": "stream",
     "text": [
      "{2: 3, 3: 2, 4: 2, 5: 2}\n"
     ]
    }
   ],
   "source": [
    "def count_elements(lst):\n",
    "    count = {}\n",
    "    for element in lst:\n",
    "        if element in count:\n",
    "            count[element] += 1\n",
    "        else:\n",
    "            count[element] = 1\n",
    "    return count\n",
    "lst=[2,3,4,5,3,2,2,4,5]\n",
    "print(count_elements(lst))"
   ]
  },
  {
   "cell_type": "code",
   "execution_count": null,
   "id": "7959a1a2",
   "metadata": {},
   "outputs": [],
   "source": [
    "5. Write a Python program to find the second largest number in a list."
   ]
  },
  {
   "cell_type": "code",
   "execution_count": 8,
   "id": "313a210e",
   "metadata": {},
   "outputs": [
    {
     "name": "stdout",
     "output_type": "stream",
     "text": [
      "9\n"
     ]
    }
   ],
   "source": [
    "def second_largest(arr):\n",
    "    max1=float(\"-inf\")\n",
    "    max2=float(\"-inf\")\n",
    "    for i in arr:\n",
    "        if i>max1:\n",
    "            max2=max1\n",
    "            max1=i\n",
    "    return max2\n",
    "arr=[2,3,4,5,3,2,7,8,9,10,4,2,4,5]\n",
    "print(second_largest(arr))"
   ]
  },
  {
   "cell_type": "code",
   "execution_count": null,
   "id": "f0e5df5f",
   "metadata": {},
   "outputs": [],
   "source": [
    "6. Implement a function to remove duplicate elements from a list."
   ]
  },
  {
   "cell_type": "code",
   "execution_count": 9,
   "id": "794571a6",
   "metadata": {},
   "outputs": [
    {
     "name": "stdout",
     "output_type": "stream",
     "text": [
      "[2, 3, 4, 5, 7, 8, 9, 10]\n"
     ]
    }
   ],
   "source": [
    "def remove_duplicate(arr):\n",
    "    return list(dict.fromkeys(arr))\n",
    "    #return list(set(arr))\n",
    "arr=[2,3,4,5,3,2,7,8,9,10,4,2,4,5]\n",
    "print(remove_duplicate(arr))"
   ]
  },
  {
   "cell_type": "code",
   "execution_count": null,
   "id": "e4a5af0d",
   "metadata": {},
   "outputs": [],
   "source": [
    "7. Write a program to calculate the factorial of a given number."
   ]
  },
  {
   "cell_type": "code",
   "execution_count": 10,
   "id": "ce1c0422",
   "metadata": {},
   "outputs": [
    {
     "name": "stdout",
     "output_type": "stream",
     "text": [
      "120\n"
     ]
    }
   ],
   "source": [
    "def factorial(num):\n",
    "    ans=1\n",
    "    for i in range(1,num+1):\n",
    "        ans*=i\n",
    "    return ans\n",
    "num=5\n",
    "print(factorial(num))"
   ]
  },
  {
   "cell_type": "code",
   "execution_count": null,
   "id": "7d686e28",
   "metadata": {},
   "outputs": [],
   "source": [
    "8. Implement a function to check if a given number is prime."
   ]
  },
  {
   "cell_type": "code",
   "execution_count": 17,
   "id": "a08a384a",
   "metadata": {},
   "outputs": [
    {
     "name": "stdout",
     "output_type": "stream",
     "text": [
      "False\n"
     ]
    }
   ],
   "source": [
    "def prime(num):\n",
    "    if num==1:\n",
    "        return False\n",
    "    for i in range(2,num):\n",
    "        if num%i==0:\n",
    "            return False\n",
    "    return True\n",
    "num=9\n",
    "print(prime(num))"
   ]
  },
  {
   "cell_type": "code",
   "execution_count": null,
   "id": "91d54982",
   "metadata": {},
   "outputs": [],
   "source": [
    "9. Write a Python program to sort a list of integers in ascending order."
   ]
  },
  {
   "cell_type": "code",
   "execution_count": 18,
   "id": "89ece1f2",
   "metadata": {},
   "outputs": [
    {
     "name": "stdout",
     "output_type": "stream",
     "text": [
      "[1, 2, 3, 4, 5, 7, 8]\n"
     ]
    }
   ],
   "source": [
    "lst=[3,4,5,7,8,2,1]\n",
    "lst.sort()\n",
    "print(lst)"
   ]
  },
  {
   "cell_type": "code",
   "execution_count": null,
   "id": "06fb9bad",
   "metadata": {},
   "outputs": [],
   "source": [
    "10. Implement a function to find the sum of all numbers in a list."
   ]
  },
  {
   "cell_type": "code",
   "execution_count": 19,
   "id": "722c7e39",
   "metadata": {},
   "outputs": [
    {
     "name": "stdout",
     "output_type": "stream",
     "text": [
      "30\n"
     ]
    }
   ],
   "source": [
    "def sumlist(lst):\n",
    "    return sum(lst)\n",
    "lst=[3,4,5,7,8,2,1]\n",
    "print(sumlist(lst))"
   ]
  },
  {
   "cell_type": "code",
   "execution_count": null,
   "id": "f84fed1e",
   "metadata": {},
   "outputs": [],
   "source": [
    "11. Write a program to find the common elements between two lists."
   ]
  },
  {
   "cell_type": "code",
   "execution_count": 22,
   "id": "bc8fa8bc",
   "metadata": {},
   "outputs": [
    {
     "name": "stdout",
     "output_type": "stream",
     "text": [
      "[2, 3, 4, 5, 7, 8]\n"
     ]
    }
   ],
   "source": [
    "def common(lst1,lst2):\n",
    "    set1=set(lst1)\n",
    "    set2=set(lst2)\n",
    "    return list(set1.intersection(set2))\n",
    "lst1=[1, 2, 3, 4, 5, 7, 8]\n",
    "lst2=[2,3,4,5,3,2,7,8,9,10,4,2,4,5]\n",
    "print(common(lst1,lst2))"
   ]
  },
  {
   "cell_type": "code",
   "execution_count": null,
   "id": "3a6bc9f4",
   "metadata": {},
   "outputs": [],
   "source": [
    "12. Implement a function to check if a given string is an anagram of another string."
   ]
  },
  {
   "cell_type": "code",
   "execution_count": 25,
   "id": "24d9e5e0",
   "metadata": {},
   "outputs": [
    {
     "name": "stdout",
     "output_type": "stream",
     "text": [
      "False\n"
     ]
    }
   ],
   "source": [
    "def anagram(string1,string2):\n",
    "    if len(string1)!=len(string2):\n",
    "        return False\n",
    "    temp1={}\n",
    "    temp2={}\n",
    "    for i in range(len(string1)):\n",
    "        temp1[string1[i]]=1+temp1.get(string1[i],0)\n",
    "        temp2[string2[i]]=1+temp2.get(string2[i],0)\n",
    "    if temp1==temp2:\n",
    "        return True\n",
    "    else:\n",
    "        return False\n",
    "string1=\"yte\"\n",
    "string2=\"ter\"\n",
    "print(anagram(string1,string2))"
   ]
  },
  {
   "cell_type": "code",
   "execution_count": null,
   "id": "51424268",
   "metadata": {},
   "outputs": [],
   "source": [
    "13. Write a Python program to generate all permutations of a given string."
   ]
  },
  {
   "cell_type": "code",
   "execution_count": 26,
   "id": "3e84ea1e",
   "metadata": {},
   "outputs": [
    {
     "name": "stdout",
     "output_type": "stream",
     "text": [
      "abc\n",
      "acb\n",
      "bac\n",
      "bca\n",
      "cab\n",
      "cba\n"
     ]
    }
   ],
   "source": [
    "def generate_permutations(string):\n",
    "    permutations = []\n",
    "    generate_permutations_recursive(string, \"\", permutations)\n",
    "    return permutations\n",
    "\n",
    "def generate_permutations_recursive(string, current_permutation, permutations):\n",
    "    if len(string) == 0:\n",
    "        permutations.append(current_permutation)\n",
    "    else:\n",
    "        for i in range(len(string)):\n",
    "            new_permutation = current_permutation + string[i]\n",
    "            remaining_string = string[:i] + string[i+1:]\n",
    "            generate_permutations_recursive(remaining_string, new_permutation, permutations)\n",
    "\n",
    "# Example usage:\n",
    "my_string = \"abc\"\n",
    "permutations = generate_permutations(my_string)\n",
    "for perm in permutations:\n",
    "    print(perm)"
   ]
  },
  {
   "cell_type": "code",
   "execution_count": null,
   "id": "48c2711a",
   "metadata": {},
   "outputs": [],
   "source": [
    "14. Implement a function to calculate the Fibonacci sequence up to a given number of terms."
   ]
  },
  {
   "cell_type": "code",
   "execution_count": 34,
   "id": "3e53b67e",
   "metadata": {},
   "outputs": [
    {
     "name": "stdout",
     "output_type": "stream",
     "text": [
      "0\n",
      "1\n",
      "1\n",
      "2\n",
      "3\n",
      "5\n",
      "8\n",
      "13\n",
      "21\n",
      "34\n",
      "None\n"
     ]
    }
   ],
   "source": [
    "def fibonacci(num):\n",
    "    a=0\n",
    "    b=1\n",
    "    print(a)\n",
    "    print(b)\n",
    "    while(num-2>0):\n",
    "        print(a+b)\n",
    "        a,b=b,a+b\n",
    "        num-=1\n",
    "num=10\n",
    "print(fibonacci(num))"
   ]
  },
  {
   "cell_type": "code",
   "execution_count": null,
   "id": "4b2949ba",
   "metadata": {},
   "outputs": [],
   "source": [
    "15. Write a program to find the median of a list of numbers."
   ]
  },
  {
   "cell_type": "code",
   "execution_count": 35,
   "id": "19406b3c",
   "metadata": {},
   "outputs": [
    {
     "name": "stdout",
     "output_type": "stream",
     "text": [
      "4.0\n"
     ]
    }
   ],
   "source": [
    "def median(lst):\n",
    "    summ=sum(lst)\n",
    "    n=len(lst)\n",
    "    return summ/n\n",
    "lst=[2,3,4,5,6]\n",
    "print(median(lst))"
   ]
  },
  {
   "cell_type": "code",
   "execution_count": null,
   "id": "3c1969dd",
   "metadata": {},
   "outputs": [],
   "source": [
    "16. Implement a function to check if a given list is sorted in non-decreasing order."
   ]
  },
  {
   "cell_type": "code",
   "execution_count": 40,
   "id": "f9f6c451",
   "metadata": {},
   "outputs": [
    {
     "name": "stdout",
     "output_type": "stream",
     "text": [
      "[9, 8, 7, 5, 4, 3, 3, 2]\n"
     ]
    }
   ],
   "source": [
    "def sorted_nondecreasing(lst):\n",
    "    lst.sort(reverse=True)\n",
    "    return lst\n",
    "\n",
    "lst=[3,5,7,3,2,4,9,8]\n",
    "print(sorted_nondecreasing(lst))"
   ]
  },
  {
   "cell_type": "code",
   "execution_count": null,
   "id": "142cc8cb",
   "metadata": {},
   "outputs": [],
   "source": [
    "17. Write a Python program to find the intersection of two lists."
   ]
  },
  {
   "cell_type": "code",
   "execution_count": 41,
   "id": "44eb6719",
   "metadata": {},
   "outputs": [
    {
     "name": "stdout",
     "output_type": "stream",
     "text": [
      "[4, 5]\n"
     ]
    }
   ],
   "source": [
    "def intersection(lst1,lst2):\n",
    "    return list(set(lst1).intersection(set(lst2)))\n",
    "lst1=[2,4,7,5,4]\n",
    "lst2=[4,5,6,78,9]\n",
    "print(intersection(lst1,lst2))"
   ]
  },
  {
   "cell_type": "code",
   "execution_count": null,
   "id": "4d09e892",
   "metadata": {},
   "outputs": [],
   "source": [
    "18. Implement a function to find the maximum subarray sum in a given list."
   ]
  },
  {
   "cell_type": "code",
   "execution_count": 5,
   "id": "a17d8856",
   "metadata": {},
   "outputs": [
    {
     "name": "stdout",
     "output_type": "stream",
     "text": [
      "Maximum subarray sum: 6\n"
     ]
    }
   ],
   "source": [
    "def find_maximum_subarray_sum(numbers):\n",
    "    current_sum = numbers[0]  # Initialize the current sum with the first element\n",
    "    max_sum = numbers[0]  # Initialize the max sum with the first element\n",
    "\n",
    "    for i in range(1, len(numbers)):\n",
    "        current_sum = max(numbers[i], current_sum + numbers[i])\n",
    "        max_sum = max(max_sum, current_sum)\n",
    "\n",
    "    return max_sum\n",
    "\n",
    "# Test the function\n",
    "numbers = [-2, 1, -3, 4, -1, 2, 1, -5, 4]\n",
    "maximum_sum = find_maximum_subarray_sum(numbers)\n",
    "print(\"Maximum subarray sum:\", maximum_sum)\n",
    "    "
   ]
  },
  {
   "cell_type": "code",
   "execution_count": null,
   "id": "dc47f83b",
   "metadata": {},
   "outputs": [],
   "source": [
    "19. Write a program to remove all vowels from a given string."
   ]
  },
  {
   "cell_type": "code",
   "execution_count": 6,
   "id": "db086bcd",
   "metadata": {},
   "outputs": [
    {
     "name": "stdout",
     "output_type": "stream",
     "text": [
      "Enter a string: ineuron and pwskill\n",
      "String without vowels: nrn nd pwskll\n"
     ]
    }
   ],
   "source": [
    "def remove_vowels(input_str):\n",
    "    vowels = \"aeiouAEIOU\"\n",
    "    without_vowels = \"\"\n",
    "\n",
    "    for char in input_str:\n",
    "        if char not in vowels:\n",
    "            without_vowels += char\n",
    "\n",
    "    return without_vowels\n",
    "\n",
    "# Test the function\n",
    "input_string = input(\"Enter a string: \")\n",
    "string_without_vowels = remove_vowels(input_string)\n",
    "print(\"String without vowels:\", string_without_vowels)"
   ]
  },
  {
   "cell_type": "code",
   "execution_count": null,
   "id": "e668cbf3",
   "metadata": {},
   "outputs": [],
   "source": [
    "20. Implement a function to reverse the order of words in a given sentence."
   ]
  },
  {
   "cell_type": "code",
   "execution_count": 7,
   "id": "a2340ef6",
   "metadata": {},
   "outputs": [
    {
     "name": "stdout",
     "output_type": "stream",
     "text": [
      "Reversed sentence: science data learn to place best is skill Pw and Ineuron\n"
     ]
    }
   ],
   "source": [
    "def reverse_sentence(sentence):\n",
    "    words = sentence.split()  # Split the sentence into words\n",
    "    reversed_words = words[::-1]  # Reverse the order of the words\n",
    "    reversed_sentence = \" \".join(reversed_words)  # Join the reversed words into a sentence\n",
    "    return reversed_sentence\n",
    "\n",
    "# Test the function\n",
    "input_sentence =\"Ineuron and Pw skill is best place to learn data science\"\n",
    "reversed_sentence = reverse_sentence(input_sentence)\n",
    "print(\"Reversed sentence:\", reversed_sentence)"
   ]
  },
  {
   "cell_type": "code",
   "execution_count": null,
   "id": "f64d0928",
   "metadata": {},
   "outputs": [],
   "source": [
    "21. Write a Python program to check if two strings are anagrams of each other."
   ]
  },
  {
   "cell_type": "code",
   "execution_count": 8,
   "id": "32c37771",
   "metadata": {},
   "outputs": [
    {
     "name": "stdout",
     "output_type": "stream",
     "text": [
      "Enter the first string: cat\n",
      "Enter the second string: tap\n",
      "The strings are not anagrams.\n"
     ]
    }
   ],
   "source": [
    "def are_anagrams(str1, str2):\n",
    "    str1 = str1.lower()  # Convert both strings to lowercase\n",
    "    str2 = str2.lower()\n",
    "\n",
    "    str1 = ''.join(sorted(str1))  # Sort the characters in both strings\n",
    "    str2 = ''.join(sorted(str2))\n",
    "\n",
    "    return str1 == str2  # Compare the sorted strings\n",
    "\n",
    "# Test the function\n",
    "string1 = input(\"Enter the first string: \")\n",
    "string2 = input(\"Enter the second string: \")\n",
    "\n",
    "if are_anagrams(string1, string2):\n",
    "    print(\"The strings are anagrams.\")\n",
    "else:\n",
    "    print(\"The strings are not anagrams.\")\n"
   ]
  },
  {
   "cell_type": "code",
   "execution_count": null,
   "id": "5c87a454",
   "metadata": {},
   "outputs": [],
   "source": [
    "22. Implement a function to find the first non-repeating character in a string."
   ]
  },
  {
   "cell_type": "code",
   "execution_count": 9,
   "id": "3a035abd",
   "metadata": {},
   "outputs": [
    {
     "name": "stdout",
     "output_type": "stream",
     "text": [
      "Enter a string: njkjkhih\n",
      "First non-repeating character: n\n"
     ]
    }
   ],
   "source": [
    "def find_first_non_repeating_char(input_str):\n",
    "    char_count = {}  # Dictionary to store the character counts\n",
    "\n",
    "    # Count the occurrences of each character\n",
    "    for char in input_str:\n",
    "        if char in char_count:\n",
    "            char_count[char] += 1\n",
    "        else:\n",
    "            char_count[char] = 1\n",
    "\n",
    "    # Find the first non-repeating character\n",
    "    for char in input_str:\n",
    "        if char_count[char] == 1:\n",
    "            return char\n",
    "\n",
    "    return None  # Return None if no non-repeating character is found\n",
    "\n",
    "# Test the function\n",
    "input_string = input(\"Enter a string: \")\n",
    "first_non_repeating_char = find_first_non_repeating_char(input_string)\n",
    "if first_non_repeating_char is not None:\n",
    "    print(\"First non-repeating character:\", first_non_repeating_char)\n",
    "else:\n",
    "    print(\"No non-repeating character found.\")\n",
    "\n"
   ]
  },
  {
   "cell_type": "code",
   "execution_count": null,
   "id": "160fbcfd",
   "metadata": {},
   "outputs": [],
   "source": [
    "23. Write a program to find the prime factors of a given number."
   ]
  },
  {
   "cell_type": "code",
   "execution_count": 10,
   "id": "9b2981e1",
   "metadata": {},
   "outputs": [
    {
     "name": "stdout",
     "output_type": "stream",
     "text": [
      "Enter a number: 34\n",
      "Prime factors: [2, 17]\n"
     ]
    }
   ],
   "source": [
    "def find_prime_factors(number):\n",
    "    prime_factors = []\n",
    "    divisor = 2  # Start with the smallest prime factor\n",
    "\n",
    "    while divisor <= number:\n",
    "        if number % divisor == 0:\n",
    "            prime_factors.append(divisor)\n",
    "            number = number // divisor\n",
    "        else:\n",
    "            divisor += 1\n",
    "\n",
    "    return prime_factors\n",
    "\n",
    "# Test the function\n",
    "n = int(input(\"Enter a number: \"))\n",
    "prime_factors = find_prime_factors(n)\n",
    "print(\"Prime factors:\", prime_factors)"
   ]
  },
  {
   "cell_type": "code",
   "execution_count": null,
   "id": "b2b38ad3",
   "metadata": {},
   "outputs": [],
   "source": [
    "24. Implement a function to check if a given number is a power of two."
   ]
  },
  {
   "cell_type": "code",
   "execution_count": 11,
   "id": "707270c3",
   "metadata": {},
   "outputs": [
    {
     "name": "stdout",
     "output_type": "stream",
     "text": [
      "Enter a number: 45\n",
      "45 is not a power of two.\n"
     ]
    }
   ],
   "source": [
    "def is_power_of_two(number):\n",
    "    if number <= 0:\n",
    "        return False\n",
    "    else:\n",
    "        # A number is a power of two if and only if it has only one bit set in its binary representation.\n",
    "        # Therefore, if we perform a bitwise AND operation between the number and its predecessor, it should be zero.\n",
    "        return (number & (number - 1)) == 0\n",
    "\n",
    "# Test the function\n",
    "n = int(input(\"Enter a number: \"))\n",
    "if is_power_of_two(n):\n",
    "    print(n, \"is a power of two.\")\n",
    "else:\n",
    "    print(n, \"is not a power of two.\")\n"
   ]
  },
  {
   "cell_type": "code",
   "execution_count": null,
   "id": "207740d5",
   "metadata": {},
   "outputs": [],
   "source": [
    "25. Write a Python program to merge two sorted lists into a single sorted list."
   ]
  },
  {
   "cell_type": "code",
   "execution_count": 12,
   "id": "3dd7fdd2",
   "metadata": {},
   "outputs": [
    {
     "name": "stdout",
     "output_type": "stream",
     "text": [
      "Merged and sorted list: [1, 2, 3, 4, 5, 6, 7, 8, 9, 10]\n"
     ]
    }
   ],
   "source": [
    "def merge_sorted_lists(list1, list2):\n",
    "    merged_list = []\n",
    "    i = 0  # Index for list1\n",
    "    j = 0  # Index for list2\n",
    "\n",
    "    # Merge the two lists by comparing the elements\n",
    "    while i < len(list1) and j < len(list2):\n",
    "        if list1[i] <= list2[j]:\n",
    "            merged_list.append(list1[i])\n",
    "            i += 1\n",
    "        else:\n",
    "            merged_list.append(list2[j])\n",
    "            j += 1\n",
    "\n",
    "    # Append the remaining elements of list1, if any\n",
    "    while i < len(list1):\n",
    "        merged_list.append(list1[i])\n",
    "        i += 1\n",
    "\n",
    "    # Append the remaining elements of list2, if any\n",
    "    while j < len(list2):\n",
    "        merged_list.append(list2[j])\n",
    "        j += 1\n",
    "\n",
    "    return merged_list\n",
    "\n",
    "# Test the function\n",
    "list1 = [1, 3, 5, 7, 9]\n",
    "list2 = [2, 4, 6, 8, 10]\n",
    "merged_list = merge_sorted_lists(list1, list2)\n",
    "print(\"Merged and sorted list:\", merged_list)"
   ]
  },
  {
   "cell_type": "code",
   "execution_count": null,
   "id": "61ae7fa0",
   "metadata": {},
   "outputs": [],
   "source": [
    "26. Implement a function to find the mode of a list of numbers."
   ]
  },
  {
   "cell_type": "code",
   "execution_count": 13,
   "id": "43248633",
   "metadata": {},
   "outputs": [
    {
     "name": "stdout",
     "output_type": "stream",
     "text": [
      "Mode: [2, 3]\n"
     ]
    }
   ],
   "source": [
    "from collections import Counter\n",
    "\n",
    "def find_mode(numbers):\n",
    "    # Count the occurrences of each number using Counter\n",
    "    counts = Counter(numbers)\n",
    "\n",
    "    # Find the number(s) with the maximum count\n",
    "    max_count = max(counts.values())\n",
    "    mode = [number for number, count in counts.items() if count == max_count]\n",
    "\n",
    "    return mode\n",
    "\n",
    "# Test the function\n",
    "numbers = [1, 2, 3, 4, 2, 2, 5, 3, 3, 4]\n",
    "mode = find_mode(numbers)\n",
    "print(\"Mode:\", mode)\n"
   ]
  },
  {
   "cell_type": "code",
   "execution_count": null,
   "id": "e36dad06",
   "metadata": {},
   "outputs": [],
   "source": [
    "27. Write a program to find the greatest common divisor (GCD) of two numbers."
   ]
  },
  {
   "cell_type": "code",
   "execution_count": 14,
   "id": "88c07dc9",
   "metadata": {},
   "outputs": [
    {
     "name": "stdout",
     "output_type": "stream",
     "text": [
      "Enter the first number: 34\n",
      "Enter the second number: 59\n",
      "GCD: 1\n"
     ]
    }
   ],
   "source": [
    "def find_gcd(a, b):\n",
    "    while b != 0:\n",
    "        a, b = b, a % b\n",
    "    return a\n",
    "\n",
    "# Test the function\n",
    "num1 = int(input(\"Enter the first number: \"))\n",
    "num2 = int(input(\"Enter the second number: \"))\n",
    "\n",
    "gcd = find_gcd(num1, num2)\n",
    "print(\"GCD:\", gcd)\n"
   ]
  },
  {
   "cell_type": "code",
   "execution_count": null,
   "id": "0d4f5262",
   "metadata": {},
   "outputs": [],
   "source": [
    "28. Implement a function to calculate the square root of a given number."
   ]
  },
  {
   "cell_type": "code",
   "execution_count": 15,
   "id": "86fbb138",
   "metadata": {},
   "outputs": [
    {
     "name": "stdout",
     "output_type": "stream",
     "text": [
      "Enter a number: 36\n",
      "Square root: 6.0\n"
     ]
    }
   ],
   "source": [
    "def calculate_square_root(number):\n",
    "    if number < 0:\n",
    "        raise ValueError(\"Square root is not defined for negative numbers.\")\n",
    "\n",
    "    # Initial guess for the square root\n",
    "    guess = number / 2\n",
    "\n",
    "    # Update the guess using the Babylonian method until convergence\n",
    "    while True:\n",
    "        new_guess = (guess + number / guess) / 2\n",
    "        if abs(new_guess - guess) < 0.0001:  # Check for convergence\n",
    "            return new_guess\n",
    "        guess = new_guess\n",
    "\n",
    "# Test the function\n",
    "n = float(input(\"Enter a number: \"))\n",
    "square_root = calculate_square_root(n)\n",
    "print(\"Square root:\", square_root)"
   ]
  },
  {
   "cell_type": "code",
   "execution_count": null,
   "id": "dcc749e3",
   "metadata": {},
   "outputs": [],
   "source": [
    "29. Write a Python program to check if a given string is a valid palindrome ignoring non-alphanumeric characters."
   ]
  },
  {
   "cell_type": "code",
   "execution_count": 16,
   "id": "7207de9b",
   "metadata": {},
   "outputs": [
    {
     "name": "stdout",
     "output_type": "stream",
     "text": [
      "Enter a string: cat\n",
      "The string is not a valid palindrome.\n"
     ]
    }
   ],
   "source": [
    "import re\n",
    "\n",
    "def is_valid_palindrome(input_str):\n",
    "    # Remove non-alphanumeric characters and convert to lowercase\n",
    "    cleaned_str = re.sub(r'[^a-zA-Z0-9]', '', input_str).lower()\n",
    "\n",
    "    # Check if the cleaned string is equal to its reverse\n",
    "    return cleaned_str == cleaned_str[::-1]\n",
    "\n",
    "# Test the function\n",
    "input_string = input(\"Enter a string: \")\n",
    "if is_valid_palindrome(input_string):\n",
    "    print(\"The string is a valid palindrome.\")\n",
    "else:\n",
    "    print(\"The string is not a valid palindrome.\")\n"
   ]
  },
  {
   "cell_type": "code",
   "execution_count": null,
   "id": "ab646936",
   "metadata": {},
   "outputs": [],
   "source": [
    "30. Implement a function to find the minimum element in a rotated sorted list."
   ]
  },
  {
   "cell_type": "code",
   "execution_count": 17,
   "id": "59460ad9",
   "metadata": {},
   "outputs": [
    {
     "name": "stdout",
     "output_type": "stream",
     "text": [
      "Minimum element: 0\n"
     ]
    }
   ],
   "source": [
    "def find_min_in_rotated_sorted_list(nums):\n",
    "    left = 0\n",
    "    right = len(nums) - 1\n",
    "\n",
    "    while left < right:\n",
    "        mid = left + (right - left) // 2\n",
    "\n",
    "        if nums[mid] > nums[right]:\n",
    "            # The minimum element is in the right half\n",
    "            left = mid + 1\n",
    "        else:\n",
    "            # The minimum element is in the left half or at mid\n",
    "            right = mid\n",
    "\n",
    "    return nums[left]\n",
    "\n",
    "# Test the function\n",
    "numbers = [4, 5, 6, 7, 0, 1, 2]\n",
    "minimum = find_min_in_rotated_sorted_list(numbers)\n",
    "print(\"Minimum element:\", minimum)\n"
   ]
  },
  {
   "cell_type": "code",
   "execution_count": null,
   "id": "f18e447b",
   "metadata": {},
   "outputs": [],
   "source": [
    "31. Write a program to find the sum of all even numbers in a list."
   ]
  },
  {
   "cell_type": "code",
   "execution_count": 18,
   "id": "f8dd2160",
   "metadata": {},
   "outputs": [
    {
     "name": "stdout",
     "output_type": "stream",
     "text": [
      "Sum of even numbers: 30\n"
     ]
    }
   ],
   "source": [
    "def sum_of_even_numbers(numbers):\n",
    "    sum_even = 0\n",
    "\n",
    "    for num in numbers:\n",
    "        if num % 2 == 0:\n",
    "            sum_even += num\n",
    "\n",
    "    return sum_even\n",
    "\n",
    "# Test the function\n",
    "numbers = [1, 2, 3, 4, 5, 6, 7, 8, 9, 10]\n",
    "sum_even = sum_of_even_numbers(numbers)\n",
    "print(\"Sum of even numbers:\", sum_even)\n"
   ]
  },
  {
   "cell_type": "code",
   "execution_count": null,
   "id": "623d17d2",
   "metadata": {},
   "outputs": [],
   "source": [
    "32. Implement a function to calculate the power of a number using recursion."
   ]
  },
  {
   "cell_type": "code",
   "execution_count": 20,
   "id": "60bc64a4",
   "metadata": {},
   "outputs": [
    {
     "name": "stdout",
     "output_type": "stream",
     "text": [
      "Enter the base: 4\n",
      "Enter the exponent: 5\n",
      "Result: 1024.0\n"
     ]
    }
   ],
   "source": [
    "def power(base, exponent):\n",
    "    if exponent == 0:\n",
    "        return 1\n",
    "    elif exponent < 0:\n",
    "        return 1 / power(base, -exponent)\n",
    "    else:\n",
    "        return base * power(base, exponent - 1)\n",
    "\n",
    "# Test the function\n",
    "base = float(input(\"Enter the base: \"))\n",
    "exponent = int(input(\"Enter the exponent: \"))\n",
    "\n",
    "result = power(base, exponent)\n",
    "print(\"Result:\", result)\n"
   ]
  },
  {
   "cell_type": "code",
   "execution_count": null,
   "id": "4ce95512",
   "metadata": {},
   "outputs": [],
   "source": [
    "33. Write a Python program to remove duplicates from a list while preserving the order."
   ]
  },
  {
   "cell_type": "code",
   "execution_count": 22,
   "id": "2e03fdff",
   "metadata": {},
   "outputs": [
    {
     "name": "stdout",
     "output_type": "stream",
     "text": [
      "List with duplicates removed: [1, 2, 3, 4, 5, 6, 7]\n"
     ]
    }
   ],
   "source": [
    "def remove_duplicates_preserve_order(input_list):\n",
    "    seen = set()\n",
    "    result = []\n",
    "\n",
    "    for item in input_list:\n",
    "        if item not in seen:\n",
    "            seen.add(item)\n",
    "            result.append(item)\n",
    "\n",
    "    return result\n",
    "\n",
    "# Test the function\n",
    "input_list = [1, 2, 3, 2, 4, 5, 6, 4, 3, 7]\n",
    "result_list = remove_duplicates_preserve_order(input_list)\n",
    "print(\"List with duplicates removed:\", result_list)\n"
   ]
  },
  {
   "cell_type": "code",
   "execution_count": null,
   "id": "0f6557b1",
   "metadata": {},
   "outputs": [],
   "source": [
    "34. Implement a function to find the longest common prefix among a list of strings."
   ]
  },
  {
   "cell_type": "code",
   "execution_count": 23,
   "id": "9a6ab996",
   "metadata": {},
   "outputs": [
    {
     "name": "stdout",
     "output_type": "stream",
     "text": [
      "Longest common prefix: fl\n"
     ]
    }
   ],
   "source": [
    "def longest_common_prefix(strings):\n",
    "    if not strings:\n",
    "        return \"\"\n",
    "\n",
    "    shortest_string = min(strings, key=len)\n",
    "\n",
    "    for i, char in enumerate(shortest_string):\n",
    "        for string in strings:\n",
    "            if string[i] != char:\n",
    "                return shortest_string[:i]\n",
    "\n",
    "    return shortest_string\n",
    "\n",
    "# Test the function\n",
    "input_strings = [\"flower\", \"flow\", \"flight\"]\n",
    "common_prefix = longest_common_prefix(input_strings)\n",
    "print(\"Longest common prefix:\", common_prefix)\n",
    "\n",
    "     "
   ]
  },
  {
   "cell_type": "code",
   "execution_count": null,
   "id": "320660c9",
   "metadata": {},
   "outputs": [],
   "source": [
    "35. Write a program to check if a given number is a perfect square."
   ]
  },
  {
   "cell_type": "code",
   "execution_count": 24,
   "id": "d39a45e7",
   "metadata": {},
   "outputs": [
    {
     "name": "stdout",
     "output_type": "stream",
     "text": [
      "Enter a number: 35\n",
      "The number is not a perfect square.\n"
     ]
    }
   ],
   "source": [
    "def is_perfect_square(number):\n",
    "    if number < 0:\n",
    "        return False\n",
    "\n",
    "    sqrt = int(number ** 0.5)\n",
    "    return sqrt * sqrt == number\n",
    "\n",
    "# Test the function\n",
    "n = int(input(\"Enter a number: \"))\n",
    "if is_perfect_square(n):\n",
    "    print(\"The number is a perfect square.\")\n",
    "else:\n",
    "    print(\"The number is not a perfect square.\")"
   ]
  },
  {
   "cell_type": "code",
   "execution_count": null,
   "id": "71b1fe58",
   "metadata": {},
   "outputs": [],
   "source": [
    "36. Implement a function to calculate the product of all elements in a list."
   ]
  },
  {
   "cell_type": "code",
   "execution_count": 25,
   "id": "dc3ef46d",
   "metadata": {},
   "outputs": [
    {
     "name": "stdout",
     "output_type": "stream",
     "text": [
      "Product of elements: 120\n"
     ]
    }
   ],
   "source": [
    "def calculate_product(numbers):\n",
    "    product = 1\n",
    "\n",
    "    for num in numbers:\n",
    "        product *= num\n",
    "\n",
    "    return product\n",
    "\n",
    "# Test the function\n",
    "numbers = [2, 3, 4, 5]\n",
    "product = calculate_product(numbers)\n",
    "print(\"Product of elements:\", product)\n",
    "\n",
    "     "
   ]
  },
  {
   "cell_type": "code",
   "execution_count": null,
   "id": "0feb3107",
   "metadata": {},
   "outputs": [],
   "source": [
    "37. Write a Python program to reverse the order of words in a sentence while preserving the word order."
   ]
  },
  {
   "cell_type": "code",
   "execution_count": 26,
   "id": "c07b3cb1",
   "metadata": {},
   "outputs": [
    {
     "name": "stdout",
     "output_type": "stream",
     "text": [
      "Enter a sentence: pwskill acquire ineuron\n",
      "Reversed sentence: ineuron acquire pwskill\n"
     ]
    }
   ],
   "source": [
    "def reverse_words(sentence):\n",
    "    words = sentence.split()  # Split the sentence into words\n",
    "    reversed_words = words[::-1]  # Reverse the order of words\n",
    "    reversed_sentence = ' '.join(reversed_words)  # Join the reversed words with spaces\n",
    "\n",
    "    return reversed_sentence\n",
    "\n",
    "# Test the function\n",
    "input_sentence = input(\"Enter a sentence: \")\n",
    "reversed_sentence = reverse_words(input_sentence)\n",
    "print(\"Reversed sentence:\", reversed_sentence)"
   ]
  },
  {
   "cell_type": "code",
   "execution_count": null,
   "id": "7892fd3a",
   "metadata": {},
   "outputs": [],
   "source": [
    "38. Implement a function to find the missing number in a given list of consecutive numbers."
   ]
  },
  {
   "cell_type": "code",
   "execution_count": 33,
   "id": "6380d099",
   "metadata": {},
   "outputs": [
    {
     "name": "stdout",
     "output_type": "stream",
     "text": [
      "4\n"
     ]
    }
   ],
   "source": [
    "def missing_num(arr):\n",
    "    n=len(arr)+1\n",
    "    expected_sum=(n*(n+1))/2\n",
    "    actual_sum=sum(arr)\n",
    "    ans=expected_sum-actual_sum\n",
    "    return int(ans)\n",
    "arr=[1, 2, 3, 5, 6, 7, 8, 9]\n",
    "print(missing_num(arr))        "
   ]
  },
  {
   "cell_type": "code",
   "execution_count": null,
   "id": "9517e34c",
   "metadata": {},
   "outputs": [],
   "source": [
    "39. Write a program to find the sum of digits of a given number."
   ]
  },
  {
   "cell_type": "code",
   "execution_count": 31,
   "id": "a3d17525",
   "metadata": {},
   "outputs": [
    {
     "name": "stdout",
     "output_type": "stream",
     "text": [
      "17\n"
     ]
    }
   ],
   "source": [
    "def sumdigit(num):\n",
    "    ans=0\n",
    "    while(num>0):\n",
    "        ans+=(num%10)\n",
    "        num=num//10\n",
    "    return ans\n",
    "num=467\n",
    "print(sumdigit(num))"
   ]
  },
  {
   "cell_type": "code",
   "execution_count": null,
   "id": "52d417ab",
   "metadata": {},
   "outputs": [],
   "source": [
    "40. Implement a function to check if a given string is a valid palindrome considering case sensitivity."
   ]
  },
  {
   "cell_type": "code",
   "execution_count": 31,
   "id": "bc451af3",
   "metadata": {},
   "outputs": [
    {
     "name": "stdout",
     "output_type": "stream",
     "text": [
      "True\n"
     ]
    }
   ],
   "source": [
    "def is_valid_palindrome(string):\n",
    "    # Remove non-alphanumeric characters and convert to lowercase\n",
    "    string = ''.join(ch.lower() for ch in string if ch.isalnum())\n",
    "\n",
    "    # Check if the string is equal to its reverse\n",
    "    return string == string[::-1]\\\n",
    "\n",
    "string = \"A man, a plan, a canal: Panama\"\n",
    "is_palindrome = is_valid_palindrome(string)\n",
    "print(is_palindrome)"
   ]
  },
  {
   "cell_type": "code",
   "execution_count": null,
   "id": "e473c902",
   "metadata": {},
   "outputs": [],
   "source": [
    "41. Write a Python program to find the smallest missing positive integer in a list."
   ]
  },
  {
   "cell_type": "code",
   "execution_count": 30,
   "id": "f77d0de6",
   "metadata": {},
   "outputs": [
    {
     "name": "stdout",
     "output_type": "stream",
     "text": [
      "2\n"
     ]
    }
   ],
   "source": [
    "def find_smallest_missing_positive(nums):\n",
    "    n = len(nums)\n",
    "\n",
    "    # Move each positive integer to its correct index if possible\n",
    "    for i in range(n):\n",
    "        while 1 <= nums[i] <= n and nums[nums[i] - 1] != nums[i]:\n",
    "            nums[nums[i] - 1], nums[i] = nums[i], nums[nums[i] - 1]\n",
    "\n",
    "    # Find the first index where the value is not correct\n",
    "    for i in range(n):\n",
    "        if nums[i] != i + 1:\n",
    "            return i + 1\n",
    "\n",
    "    # If all indices have correct values, return the next positive integer\n",
    "    return n + 1\n",
    "\n",
    "nums = [3, 4, -1, 1]\n",
    "smallest_missing = find_smallest_missing_positive(nums)\n",
    "print(smallest_missing)"
   ]
  },
  {
   "cell_type": "code",
   "execution_count": null,
   "id": "91e795c4",
   "metadata": {},
   "outputs": [],
   "source": [
    "42. Implement a function to find the longest palindrome substring in a given string."
   ]
  },
  {
   "cell_type": "code",
   "execution_count": 29,
   "id": "d0f0f5a7",
   "metadata": {},
   "outputs": [
    {
     "name": "stdout",
     "output_type": "stream",
     "text": [
      "bab\n"
     ]
    }
   ],
   "source": [
    "def longest_palindrome_substring(string):\n",
    "    if len(string) < 2:\n",
    "        return string\n",
    "\n",
    "    start = 0\n",
    "    max_length = 1\n",
    "\n",
    "    # Helper function to expand around a center\n",
    "    def expand_around_center(left, right):\n",
    "        nonlocal start, max_length\n",
    "\n",
    "        while left >= 0 and right < len(string) and string[left] == string[right]:\n",
    "            left -= 1\n",
    "            right += 1\n",
    "\n",
    "        current_length = right - left - 1\n",
    "        if current_length > max_length:\n",
    "            start = left + 1\n",
    "            max_length = current_length\n",
    "\n",
    "    # Iterate over each character as the center of a potential palindrome\n",
    "    for i in range(len(string)):\n",
    "        expand_around_center(i, i)  # Odd-length palindrome\n",
    "        expand_around_center(i, i + 1)  # Even-length palindrome\n",
    "\n",
    "    return string[start:start + max_length]\n",
    "\n",
    "\n",
    "string = \"babad\"\n",
    "longest_palindrome = longest_palindrome_substring(string)\n",
    "print(longest_palindrome)\n",
    "\n"
   ]
  },
  {
   "cell_type": "code",
   "execution_count": null,
   "id": "ba42a810",
   "metadata": {},
   "outputs": [],
   "source": [
    "43. Write a program to find the number of occurrences of a given element in a list."
   ]
  },
  {
   "cell_type": "code",
   "execution_count": 28,
   "id": "8e5c9e34",
   "metadata": {},
   "outputs": [
    {
     "name": "stdout",
     "output_type": "stream",
     "text": [
      "4\n"
     ]
    }
   ],
   "source": [
    "def count_occurrences(lst, element):\n",
    "    count = 0\n",
    "    for item in lst:\n",
    "        if item == element:\n",
    "            count += 1\n",
    "    return count\n",
    "\n",
    "my_list = [1, 2, 3, 4, 2, 2, 3, 1, 2]\n",
    "element = 2\n",
    "occurrences = count_occurrences(my_list, element)\n",
    "print(occurrences)"
   ]
  },
  {
   "cell_type": "code",
   "execution_count": null,
   "id": "6697911f",
   "metadata": {},
   "outputs": [],
   "source": [
    "44. Implement a function to check if a given number is a perfect number."
   ]
  },
  {
   "cell_type": "code",
   "execution_count": 27,
   "id": "0239d1e6",
   "metadata": {},
   "outputs": [
    {
     "name": "stdout",
     "output_type": "stream",
     "text": [
      "True\n"
     ]
    }
   ],
   "source": [
    "def is_perfect_number(number):\n",
    "    if number <= 0:\n",
    "        return False\n",
    "\n",
    "    divisor_sum = 0\n",
    "\n",
    "    for i in range(1, number):\n",
    "        if number % i == 0:\n",
    "            divisor_sum += i\n",
    "\n",
    "    return divisor_sum == number\n",
    "\n",
    "\n",
    "number = 28\n",
    "is_perfect = is_perfect_number(number)\n",
    "print(is_perfect)"
   ]
  },
  {
   "cell_type": "code",
   "execution_count": null,
   "id": "0ed09a9c",
   "metadata": {},
   "outputs": [],
   "source": [
    "45. Write a Python program to remove all duplicates from a string."
   ]
  },
  {
   "cell_type": "code",
   "execution_count": 4,
   "id": "aefbdf7a",
   "metadata": {},
   "outputs": [
    {
     "name": "stdout",
     "output_type": "stream",
     "text": [
      "jkhf\n"
     ]
    }
   ],
   "source": [
    "def remove_duplicates(string):\n",
    "    unique_chars = set()\n",
    "    result = \"\"\n",
    "    for char in string:\n",
    "        if char not in unique_chars:\n",
    "            result += char\n",
    "            unique_chars.add(char)\n",
    "    return result\n",
    "string=\"jkjhjkhfjk\"\n",
    "print(remove_duplicates(string))"
   ]
  },
  {
   "cell_type": "code",
   "execution_count": null,
   "id": "71d6e6ff",
   "metadata": {},
   "outputs": [],
   "source": [
    "46. Implement a function to find the first missing positive"
   ]
  },
  {
   "cell_type": "code",
   "execution_count": 2,
   "id": "4bb13f6d",
   "metadata": {},
   "outputs": [
    {
     "name": "stdout",
     "output_type": "stream",
     "text": [
      "5\n"
     ]
    }
   ],
   "source": [
    "def find(numbers):\n",
    "    n = len(numbers)\n",
    "\n",
    "    for i in range(n):\n",
    "        while 1 <= numbers[i] <= n and numbers[numbers[i] - 1] != numbers[i]:\n",
    "            numbers[numbers[i] - 1], numbers[i] = numbers[i], numbers[numbers[i] - 1]\n",
    "\n",
    "    for i in range(n):\n",
    "        if numbers[i] != i + 1:\n",
    "            return i + 1\n",
    "\n",
    "    return n + 1\n",
    "numbers=[1,2,3,4,6,7]\n",
    "print(find(numbers))"
   ]
  },
  {
   "cell_type": "code",
   "execution_count": null,
   "id": "728c5409",
   "metadata": {},
   "outputs": [],
   "source": []
  }
 ],
 "metadata": {
  "kernelspec": {
   "display_name": "Python 3 (ipykernel)",
   "language": "python",
   "name": "python3"
  },
  "language_info": {
   "codemirror_mode": {
    "name": "ipython",
    "version": 3
   },
   "file_extension": ".py",
   "mimetype": "text/x-python",
   "name": "python",
   "nbconvert_exporter": "python",
   "pygments_lexer": "ipython3",
   "version": "3.9.12"
  }
 },
 "nbformat": 4,
 "nbformat_minor": 5
}
