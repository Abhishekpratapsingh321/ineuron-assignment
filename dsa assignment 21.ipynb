{
 "cells": [
  {
   "cell_type": "markdown",
   "id": "95e713b3",
   "metadata": {},
   "source": [
    "Question-1\n",
    "You are given a binary tree. The binary tree is represented using the TreeNode class. Each TreeNode has an integer value and left and right children, represented using the TreeNode class itself. Convert this binary tree into a binary search tree."
   ]
  },
  {
   "cell_type": "code",
   "execution_count": 3,
   "id": "2d7c048f",
   "metadata": {},
   "outputs": [
    {
     "name": "stdout",
     "output_type": "stream",
     "text": [
      "8\n",
      "2\n",
      "4\n",
      "10\n",
      "7\n"
     ]
    }
   ],
   "source": [
    "class TreeNode:\n",
    "    def __init__(self, value):\n",
    "        self.val = value\n",
    "        self.left = None\n",
    "        self.right = None\n",
    "\n",
    "# Function to perform in-order traversal of binary tree and store node values in a list\n",
    "def inorder_traversal(root, values):\n",
    "    if root is None:\n",
    "        return\n",
    "    inorder_traversal(root.left, values)\n",
    "    values.append(root.val)\n",
    "    inorder_traversal(root.right, values)\n",
    "\n",
    "# Function to construct a binary search tree from a sorted list of values\n",
    "def build_bst(values, start, end):\n",
    "    if start > end:\n",
    "        return None\n",
    "    mid = (start + end) // 2\n",
    "    node = TreeNode(values[mid])\n",
    "    node.left = build_bst(values, start, mid - 1)\n",
    "    node.right = build_bst(values, mid + 1, end)\n",
    "    return node\n",
    "\n",
    "# Function to convert binary tree to binary search tree\n",
    "def convert_to_bst(root):\n",
    "    # Perform in-order traversal to get sorted list of node values\n",
    "    values = []\n",
    "    inorder_traversal(root, values)\n",
    "    \n",
    "    # Construct a binary search tree from the sorted list of values\n",
    "    return build_bst(values, 0, len(values) - 1)\n",
    "\n",
    "# Test case\n",
    "# Create the input binary tree\n",
    "root = TreeNode(10)\n",
    "root.left = TreeNode(2)\n",
    "root.right = TreeNode(7)\n",
    "root.left.left = TreeNode(8)\n",
    "root.left.right = TreeNode(4)\n",
    "# Convert binary tree to binary search tree\n",
    "new_root = convert_to_bst(root)\n",
    "\n",
    "# Print the converted binary search tree using in-order traversal\n",
    "def inorder_print(root):\n",
    "    if root is None:\n",
    "        return\n",
    "    inorder_print(root.left)\n",
    "    print(root.val)\n",
    "    inorder_print(root.right)\n",
    "\n",
    "inorder_print(new_root)"
   ]
  },
  {
   "cell_type": "markdown",
   "id": "3145e7fd",
   "metadata": {},
   "source": [
    "Question-2:\n",
    "Given a Binary Search Tree with all unique values and two keys. Find the distance between two nodes in BST. The given keys always exist in BST."
   ]
  },
  {
   "cell_type": "code",
   "execution_count": 4,
   "id": "82a7fd66",
   "metadata": {},
   "outputs": [
    {
     "name": "stdout",
     "output_type": "stream",
     "text": [
      "\n",
      "The distance between the two keys = 4\n"
     ]
    }
   ],
   "source": [
    "class TreeNode:\n",
    "    def __init__(self, val):\n",
    "        self.val = val\n",
    "        self.left = None\n",
    "        self.right = None\n",
    "\n",
    "def findLCA(root, node1, node2):\n",
    "    if root.val > node1.val and root.val > node2.val:\n",
    "        return findLCA(root.left, node1, node2)\n",
    "    elif root.val < node1.val and root.val < node2.val:\n",
    "        return findLCA(root.right, node1, node2)\n",
    "    else:\n",
    "        return root\n",
    "\n",
    "def findDistance(root, target):\n",
    "    if root.val == target.val:\n",
    "        return 0\n",
    "    elif root.val > target.val:\n",
    "        return 1 + findDistance(root.left, target)\n",
    "    else:\n",
    "        return 1 + findDistance(root.right, target)\n",
    "\n",
    "def findNode(root, value):\n",
    "    if root is None or root.val == value:\n",
    "        return root\n",
    "    elif root.val > value:\n",
    "        return findNode(root.left, value)\n",
    "    else:\n",
    "        return findNode(root.right, value)\n",
    "\n",
    "def findDistanceBetweenNodes(root, value1, value2):\n",
    "    node1 = findNode(root, value1)\n",
    "    node2 = findNode(root, value2)\n",
    "    \n",
    "    lca = findLCA(root, node1, node2)\n",
    "    distance1 = findDistance(lca, node1)\n",
    "    distance2 = findDistance(lca, node2)\n",
    "    return distance1 + distance2\n",
    "root = TreeNode(8)\n",
    "root.left = TreeNode(3)\n",
    "root.right = TreeNode(10)\n",
    "root.left.left = TreeNode(1)\n",
    "root.left.right = TreeNode(6)\n",
    "root.left.right.left = TreeNode(4)\n",
    "root.left.right.right = TreeNode(7)\n",
    "root.right.right = TreeNode(14)\n",
    "root.right.right.left = TreeNode(13)\n",
    "\n",
    "values = [8, 3, 1, 6, 4, 7, 10, 14, 13]\n",
    "value1 = 6\n",
    "value2 = 14\n",
    "distance = findDistanceBetweenNodes(root, value1, value2)\n",
    "print()\n",
    "print(\"The distance between the two keys =\", distance)"
   ]
  },
  {
   "cell_type": "markdown",
   "id": "9f57518f",
   "metadata": {},
   "source": [
    "Question-3:\n",
    "Write a program to convert a binary tree to a doubly linked list."
   ]
  },
  {
   "cell_type": "code",
   "execution_count": 6,
   "id": "4d1f34a2",
   "metadata": {},
   "outputs": [
    {
     "name": "stdout",
     "output_type": "stream",
     "text": [
      "\n",
      "Output:\n",
      "5 10 30 20 35 \n"
     ]
    }
   ],
   "source": [
    "class Node:\n",
    "    def __init__(self, val):\n",
    "        self.val = val\n",
    "        self.left = None\n",
    "        self.right = None\n",
    "\n",
    "def convertToDLLUtil(root, prev):\n",
    "    if root is None:\n",
    "        return\n",
    "\n",
    "    convertToDLLUtil(root.left, prev)\n",
    "\n",
    "    root.left = prev[0]\n",
    "    if prev[0] is not None:\n",
    "        prev[0].right = root\n",
    "\n",
    "    prev[0] = root\n",
    "\n",
    "    convertToDLLUtil(root.right, prev)\n",
    "\n",
    "def convertToDLL(root):\n",
    "    prev = [None]\n",
    "    convertToDLLUtil(root, prev)\n",
    "\n",
    "def printDLL(head):\n",
    "    current = head\n",
    "    while current is not None:\n",
    "        print(current.val, end=\" \")\n",
    "        current = current.right\n",
    "    print()\n",
    "\n",
    "     \n",
    "\n",
    "root = Node(10)\n",
    "root.left = Node(5)\n",
    "root.right = Node(20)\n",
    "root.right.left = Node(30)\n",
    "root.right.right = Node(35)\n",
    "\n",
    "\n",
    "\n",
    "convertToDLL(root)\n",
    "\n",
    "print(\"\\nOutput:\")\n",
    "printDLL(root.left)"
   ]
  },
  {
   "cell_type": "code",
   "execution_count": null,
   "id": "c2ae98cd",
   "metadata": {},
   "outputs": [],
   "source": []
  }
 ],
 "metadata": {
  "kernelspec": {
   "display_name": "Python 3 (ipykernel)",
   "language": "python",
   "name": "python3"
  },
  "language_info": {
   "codemirror_mode": {
    "name": "ipython",
    "version": 3
   },
   "file_extension": ".py",
   "mimetype": "text/x-python",
   "name": "python",
   "nbconvert_exporter": "python",
   "pygments_lexer": "ipython3",
   "version": "3.9.12"
  }
 },
 "nbformat": 4,
 "nbformat_minor": 5
}
