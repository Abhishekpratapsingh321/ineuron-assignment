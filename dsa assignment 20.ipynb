{
 "cells": [
  {
   "cell_type": "markdown",
   "id": "b394adfd",
   "metadata": {},
   "source": [
    " Question-1\n",
    "\n",
    "Given a binary tree, your task is to find subtree with maximum sum in tree.\n",
    "\n"
   ]
  },
  {
   "cell_type": "code",
   "execution_count": 1,
   "id": "0261c31d",
   "metadata": {},
   "outputs": [
    {
     "name": "stdout",
     "output_type": "stream",
     "text": [
      "Output 1: 28\n"
     ]
    }
   ],
   "source": [
    "class Node:\n",
    "    def __init__(self, val):\n",
    "        self.val = val\n",
    "        self.left = None\n",
    "        self.right = None\n",
    "\n",
    "def findMaxSubtreeSum(root):\n",
    "    if root is None:\n",
    "        return 0\n",
    "\n",
    "    leftSum = findMaxSubtreeSum(root.left)\n",
    "    rightSum = findMaxSubtreeSum(root.right)\n",
    "\n",
    "    currentSum = root.val + leftSum + rightSum\n",
    "\n",
    "    global maxSum\n",
    "    maxSum = max(maxSum, currentSum)\n",
    "\n",
    "    return currentSum\n",
    "root1 = Node(1)\n",
    "root1.left = Node(2)\n",
    "root1.right = Node(3)\n",
    "root1.left.left = Node(4)\n",
    "root1.left.right = Node(5)\n",
    "root1.right.left = Node(6)\n",
    "root1.right.right = Node(7)\n",
    "\n",
    "maxSum = float('-inf')  # initialize maxSum\n",
    "findMaxSubtreeSum(root1)\n",
    "print(\"Output 1:\", maxSum)"
   ]
  },
  {
   "cell_type": "markdown",
   "id": "22e79336",
   "metadata": {},
   "source": [
    "Question-2\n",
    "Construct the BST (Binary Search Tree) from its given level order traversal."
   ]
  },
  {
   "cell_type": "code",
   "execution_count": 2,
   "id": "f639ef71",
   "metadata": {},
   "outputs": [],
   "source": [
    "class Node:\n",
    "    def __init__(self, val):\n",
    "        self.val = val\n",
    "        self.left = None\n",
    "        self.right = None\n",
    "\n",
    "def constructBST(levelOrder):\n",
    "    if len(levelOrder) == 0:\n",
    "        return None\n",
    "\n",
    "    root = Node(levelOrder[0])\n",
    "    queue = [root]\n",
    "    i = 1\n",
    "\n",
    "    while i < len(levelOrder):\n",
    "        currentNode = queue.pop(0)\n",
    "\n",
    "        leftValue = levelOrder[i]\n",
    "        if leftValue < currentNode.val:\n",
    "            currentNode.left = Node(leftValue)\n",
    "            queue.append(currentNode.left)\n",
    "            i += 1\n",
    "\n",
    "        if i >= len(levelOrder):\n",
    "            break\n",
    "\n",
    "        rightValue = levelOrder[i]\n",
    "        if rightValue > currentNode.val:\n",
    "            currentNode.right = Node(rightValue)\n",
    "            queue.append(currentNode.right)\n",
    "            i += 1\n",
    "\n",
    "    return root\n",
    "levelOrder = [7, 4, 12, 3, 6, 8, 1, 5, 10]\n",
    "root = constructBST(levelOrder)\n",
    "    "
   ]
  },
  {
   "cell_type": "markdown",
   "id": "60107bc1",
   "metadata": {},
   "source": [
    "Question-3\n",
    "\n",
    "Given an array of size n. The problem is to check whether the given array can represent the level order traversal of a Binary Search Tree or not."
   ]
  },
  {
   "cell_type": "code",
   "execution_count": 4,
   "id": "09e75985",
   "metadata": {},
   "outputs": [
    {
     "name": "stdout",
     "output_type": "stream",
     "text": [
      "False\n"
     ]
    }
   ],
   "source": [
    "def representsBSTLevelOrder(arr):\n",
    "    stack = []\n",
    "    root = float('-inf')\n",
    "    i = 0\n",
    "\n",
    "    for i in range(1, len(arr)):\n",
    "        if arr[i] < root:\n",
    "            return False\n",
    "\n",
    "        while len(stack) > 0 and arr[i] > stack[-1]:\n",
    "            root = stack.pop()\n",
    "\n",
    "        stack.append(arr[i])\n",
    "\n",
    "    return True\n",
    "\n",
    "     \n",
    "\n",
    "arr2 = [11, 6, 13, 5, 12, 10]\n",
    "print( representsBSTLevelOrder(arr2))"
   ]
  },
  {
   "cell_type": "code",
   "execution_count": null,
   "id": "c02676bc",
   "metadata": {},
   "outputs": [],
   "source": []
  }
 ],
 "metadata": {
  "kernelspec": {
   "display_name": "Python 3 (ipykernel)",
   "language": "python",
   "name": "python3"
  },
  "language_info": {
   "codemirror_mode": {
    "name": "ipython",
    "version": 3
   },
   "file_extension": ".py",
   "mimetype": "text/x-python",
   "name": "python",
   "nbconvert_exporter": "python",
   "pygments_lexer": "ipython3",
   "version": "3.9.12"
  }
 },
 "nbformat": 4,
 "nbformat_minor": 5
}
